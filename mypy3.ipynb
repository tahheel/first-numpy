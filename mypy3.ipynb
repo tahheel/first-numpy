{
 "cells": [
  {
   "cell_type": "code",
   "execution_count": 1,
   "metadata": {},
   "outputs": [
    {
     "ename": "ModuleNotFoundError",
     "evalue": "No module named 'request'",
     "output_type": "error",
     "traceback": [
      "\u001b[1;31m---------------------------------------------------------------------------\u001b[0m",
      "\u001b[1;31mModuleNotFoundError\u001b[0m                       Traceback (most recent call last)",
      "\u001b[1;32m<ipython-input-1-e392607f0c42>\u001b[0m in \u001b[0;36m<module>\u001b[1;34m\u001b[0m\n\u001b[1;32m----> 1\u001b[1;33m \u001b[1;32mimport\u001b[0m \u001b[0mrequest\u001b[0m\u001b[1;33m\u001b[0m\u001b[1;33m\u001b[0m\u001b[0m\n\u001b[0m",
      "\u001b[1;31mModuleNotFoundError\u001b[0m: No module named 'request'"
     ]
    }
   ],
   "source": [
    "import request"
   ]
  },
  {
   "cell_type": "code",
   "execution_count": 2,
   "metadata": {},
   "outputs": [],
   "source": [
    "import requests\n"
   ]
  },
  {
   "cell_type": "code",
   "execution_count": 3,
   "metadata": {},
   "outputs": [],
   "source": [
    "data = requests.get(\"https://jumia.com.ng\")"
   ]
  },
  {
   "cell_type": "code",
   "execution_count": 4,
   "metadata": {},
   "outputs": [],
   "source": [
    "#print(data.content)"
   ]
  },
  {
   "cell_type": "code",
   "execution_count": 5,
   "metadata": {},
   "outputs": [
    {
     "name": "stdout",
     "output_type": "stream",
     "text": [
      "hello world\n"
     ]
    }
   ],
   "source": [
    "print(\"hello world\")"
   ]
  },
  {
   "cell_type": "code",
   "execution_count": null,
   "metadata": {},
   "outputs": [],
   "source": [
    "## SmartyPants\n",
    "\n",
    "SmartyPants converts ASCII punctuation characters into \"smart\" typographic punctuation HTML entities. For example:\n",
    "\n",
    "|                |ASCII                          |HTML                         |\n",
    "|----------------|-------------------------------|-----------------------------|\n",
    "|Single backticks|`'Isn't this fun?'`            |'Isn't this fun?'            |\n",
    "|Quotes          |`\"Isn't this fun?\"`            |\"Isn't this fun?\"            |\n",
    "|Dashes          |`-- is en-dash, --- is em-dash`|-- is en-dash, --- is em-dash|\n",
    "\n",
    "\n",
    "## KaTeX\n",
    "\n",
    "You can render LaTeX mathematical expressions using [KaTeX](https://khan.github.io/KaTeX/):\n",
    "\n",
    "The *Gamma function* satisfying $\\Gamma(n) = (n-1)!\\quad\\forall n\\in\\mathbb N$ is via the Euler integral\n",
    "\n",
    "$$\n",
    "\\Gamma(z) = \\int_0^\\infty t^{z-1}e^{-t}dt\\,.\n",
    "$$\n",
    "\n",
    "> You can find more information about **LaTeX** mathematical expressions [here](http://meta.math.stackexchange.com/questions/5020/mathjax-basic-tutorial-and-quick-reference).\n",
    "\n",
    "\n",
    "## UML diagrams\n",
    "\n",
    "You can render UML diagrams using [Mermaid](https://mermaidjs.github.io/). For example, this will produce a sequence diagram:\n",
    "\n",
    "```mermaid\n",
    "sequenceDiagram\n",
    "Alice ->> Bob: Hello Bob, how are you?\n",
    "Bob-->>John: How about you John?\n",
    "Bob--x Alice: I am good thanks!\n",
    "Bob-x John: I am good thanks!\n",
    "Note right of John: Bob thinks a long<br/>long time, so long<br/>that the text does<br/>not fit on a row.\n",
    "\n",
    "Bob-->Alice: Checking with John...\n",
    "Alice->John: Yes... John, how are you?\n",
    "```\n",
    "\n",
    "And this will produce a flow chart:\n",
    "\n",
    "```mermaid\n",
    "graph LR\n",
    "A[Square Rect] -- Link text --> B((Circle))\n",
    "A --> C(Round Rect)\n",
    "B --> D{Rhombus}\n",
    "C --> D\n",
    "```"
   ]
  },
  {
   "cell_type": "code",
   "execution_count": null,
   "metadata": {},
   "outputs": [],
   "source": []
  }
 ],
 "metadata": {
  "kernelspec": {
   "display_name": "Python 3",
   "language": "python",
   "name": "python3"
  },
  "language_info": {
   "codemirror_mode": {
    "name": "ipython",
    "version": 3
   },
   "file_extension": ".py",
   "mimetype": "text/x-python",
   "name": "python",
   "nbconvert_exporter": "python",
   "pygments_lexer": "ipython3",
   "version": "3.7.8"
  }
 },
 "nbformat": 4,
 "nbformat_minor": 4
}
